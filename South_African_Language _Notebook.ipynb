{
 "cells": [
  {
   "cell_type": "code",
   "execution_count": 7,
   "id": "35e6852f",
   "metadata": {},
   "outputs": [],
   "source": [
    "import pandas as pd\n",
    "import numpy as np\n",
    "import re\n",
    "import seaborn as sns\n",
    "import matplotlib.pyplot as plt\n",
    "import warnings\n",
    "warnings.simplefilter(\"ignore\")"
   ]
  },
  {
   "cell_type": "markdown",
   "id": "b3cff9e3",
   "metadata": {},
   "source": [
    "### Problem\n",
    "In this challenge, The target is to Identify the language  that a piece of text is written in, which is in any of South Africa's 11 Official languages. "
   ]
  },
  {
   "cell_type": "code",
   "execution_count": 14,
   "id": "6132765d",
   "metadata": {},
   "outputs": [],
   "source": [
    "# Load the train dataset\n",
    "df_train = pd.read_csv('train_set.csv')\n",
    "# value count for each language\n",
    "df_train[\"lang_id\"].value_counts()\n",
    "\n",
    "# Display.max_colwidth option  set to None to show all text content without truncation\n",
    "pd.set_option('display.max_colwidth', None)\n",
    "#load the test dataset\n",
    "df_test = pd.read_csv('test_set.csv')"
   ]
  },
  {
   "cell_type": "code",
   "execution_count": 15,
   "id": "ed3e8000",
   "metadata": {},
   "outputs": [
    {
     "data": {
      "text/html": [
       "<div>\n",
       "<style scoped>\n",
       "    .dataframe tbody tr th:only-of-type {\n",
       "        vertical-align: middle;\n",
       "    }\n",
       "\n",
       "    .dataframe tbody tr th {\n",
       "        vertical-align: top;\n",
       "    }\n",
       "\n",
       "    .dataframe thead th {\n",
       "        text-align: right;\n",
       "    }\n",
       "</style>\n",
       "<table border=\"1\" class=\"dataframe\">\n",
       "  <thead>\n",
       "    <tr style=\"text-align: right;\">\n",
       "      <th></th>\n",
       "      <th>lang_id</th>\n",
       "      <th>text</th>\n",
       "    </tr>\n",
       "  </thead>\n",
       "  <tbody>\n",
       "    <tr>\n",
       "      <th>0</th>\n",
       "      <td>xho</td>\n",
       "      <td>umgaqo-siseko wenza amalungiselelo kumaziko axhasa ulawulo lwesininzi kunye nokuthath inxaxheba kwabafazi ezi ziquka phakathi kwezinye zazo ikomishoni yokulingana ngokwesini ikomishoni yamalungelo oluntu lomzantsi afrika</td>\n",
       "    </tr>\n",
       "    <tr>\n",
       "      <th>1</th>\n",
       "      <td>xho</td>\n",
       "      <td>i-dha iya kuba nobulumko bokubeka umsebenzi naphi na kwisebe ngokusekwe kwiimfuno zokusebenza zalo emva kokubonana nomsebenzi kunye okanye imanyano yakhe ukuba ulandulo lomntu onjalo alufanelekanga i-dha mayibize uncedo olufanelekileyo elungelweni layo</td>\n",
       "    </tr>\n",
       "    <tr>\n",
       "      <th>2</th>\n",
       "      <td>eng</td>\n",
       "      <td>the province of kwazulu-natal department of transport invites tenders from established contractors experienced in bridge construction for the construction of the kwajolwayo tugela river pedestrian bridge near tugela ferry the duration of the project will be months</td>\n",
       "    </tr>\n",
       "  </tbody>\n",
       "</table>\n",
       "</div>"
      ],
      "text/plain": [
       "  lang_id  \\\n",
       "0     xho   \n",
       "1     xho   \n",
       "2     eng   \n",
       "\n",
       "                                                                                                                                                                                                                                                                       text  \n",
       "0                                              umgaqo-siseko wenza amalungiselelo kumaziko axhasa ulawulo lwesininzi kunye nokuthath inxaxheba kwabafazi ezi ziquka phakathi kwezinye zazo ikomishoni yokulingana ngokwesini ikomishoni yamalungelo oluntu lomzantsi afrika  \n",
       "1              i-dha iya kuba nobulumko bokubeka umsebenzi naphi na kwisebe ngokusekwe kwiimfuno zokusebenza zalo emva kokubonana nomsebenzi kunye okanye imanyano yakhe ukuba ulandulo lomntu onjalo alufanelekanga i-dha mayibize uncedo olufanelekileyo elungelweni layo  \n",
       "2  the province of kwazulu-natal department of transport invites tenders from established contractors experienced in bridge construction for the construction of the kwajolwayo tugela river pedestrian bridge near tugela ferry the duration of the project will be months  "
      ]
     },
     "execution_count": 15,
     "metadata": {},
     "output_type": "execute_result"
    }
   ],
   "source": [
    "#view first 3 row of train dataset\n",
    "df_train.head(3)"
   ]
  },
  {
   "cell_type": "code",
   "execution_count": 16,
   "id": "8e35672c",
   "metadata": {},
   "outputs": [
    {
     "data": {
      "text/html": [
       "<div>\n",
       "<style scoped>\n",
       "    .dataframe tbody tr th:only-of-type {\n",
       "        vertical-align: middle;\n",
       "    }\n",
       "\n",
       "    .dataframe tbody tr th {\n",
       "        vertical-align: top;\n",
       "    }\n",
       "\n",
       "    .dataframe thead th {\n",
       "        text-align: right;\n",
       "    }\n",
       "</style>\n",
       "<table border=\"1\" class=\"dataframe\">\n",
       "  <thead>\n",
       "    <tr style=\"text-align: right;\">\n",
       "      <th></th>\n",
       "      <th>index</th>\n",
       "      <th>text</th>\n",
       "    </tr>\n",
       "  </thead>\n",
       "  <tbody>\n",
       "    <tr>\n",
       "      <th>5679</th>\n",
       "      <td>5680</td>\n",
       "      <td>E Ka kopo etsa kgetho ya hao ka hloko, hobane ha o na ho kgona ho fetola kgetho ena hara selemo ntle le tumello ya Boto ya Batshwaredi.</td>\n",
       "    </tr>\n",
       "    <tr>\n",
       "      <th>5680</th>\n",
       "      <td>5681</td>\n",
       "      <td>TB ke bokudi ba PMB, mme Morero o tla lefella tlhahlobo ya ho sheba lefu lena. Leha ho le jwalo, o tlameha ho fumana kalafo ya hao ya TB ditsing tsa Mmuso.</td>\n",
       "    </tr>\n",
       "    <tr>\n",
       "      <th>5681</th>\n",
       "      <td>5682</td>\n",
       "      <td>Vakatjhela iwebhusayidi yethu ku-www.</td>\n",
       "    </tr>\n",
       "  </tbody>\n",
       "</table>\n",
       "</div>"
      ],
      "text/plain": [
       "      index  \\\n",
       "5679   5680   \n",
       "5680   5681   \n",
       "5681   5682   \n",
       "\n",
       "                                                                                                                                                             text  \n",
       "5679                      E Ka kopo etsa kgetho ya hao ka hloko, hobane ha o na ho kgona ho fetola kgetho ena hara selemo ntle le tumello ya Boto ya Batshwaredi.  \n",
       "5680  TB ke bokudi ba PMB, mme Morero o tla lefella tlhahlobo ya ho sheba lefu lena. Leha ho le jwalo, o tlameha ho fumana kalafo ya hao ya TB ditsing tsa Mmuso.  \n",
       "5681                                                                                                                        Vakatjhela iwebhusayidi yethu ku-www.  "
      ]
     },
     "execution_count": 16,
     "metadata": {},
     "output_type": "execute_result"
    }
   ],
   "source": [
    "#view tail of test dataset\n",
    "df_test.tail(3)"
   ]
  },
  {
   "cell_type": "code",
   "execution_count": 18,
   "id": "d31d86d8",
   "metadata": {},
   "outputs": [],
   "source": [
    "# separating the independent and dependant features\n",
    "X = df_train[\"text\"]\n",
    "y = df_train[\"lang_id\"]\n"
   ]
  },
  {
   "cell_type": "code",
   "execution_count": 19,
   "id": "4f22c732",
   "metadata": {},
   "outputs": [],
   "source": [
    "#create empty list to store modified texts\n",
    "modified_data = []\n",
    "\n",
    "for word in X:\n",
    "    # removing the special characters and numbers\n",
    "    word = re.sub(r'[!@#$(),n\"%^*?:;~`0-9]', ' ', word)\n",
    "    word = re.sub(r'[[]]', ' ', word)\n",
    "    # convert the text to lower case\n",
    "    word = word.lower()\n",
    "    # appending to empty modified data list\n",
    "    modified_data.append(word)"
   ]
  },
  {
   "cell_type": "code",
   "execution_count": 20,
   "id": "778e40a7",
   "metadata": {},
   "outputs": [],
   "source": [
    "#train test splitting\n",
    "from sklearn.model_selection import train_test_split\n",
    "x_train, x_test, y_train, y_test = train_test_split(X, y, test_size = 0.20)\n"
   ]
  },
  {
   "cell_type": "code",
   "execution_count": 21,
   "id": "97f920db",
   "metadata": {
    "scrolled": false
   },
   "outputs": [
    {
     "data": {
      "text/plain": [
       "31358                                                                                      mang le mang o na le tokelo ya go šomiša polelo ya gagwe le go kgatha tema mererong ya setšo sa boikgethelo fela ga go yo a swanetšego go dira tše ka tsela ye e lego kgahlanong le mabaka a itšego a molao wa ditokelo\n",
       "13324                                                                                           metsi a hlokehang ho phetha mabaka a ho phedisa setjhaba a tla bolokwa mme a bitswe polokelo mme a ba tla bohlokwa ho feta metsi a mang tshebediso ya metsi bakeng sa mabaka a mang e tla ba teng ka tumello feela\n",
       "10527         emacembu etepolitiki lamelwe ephalamende yavelonkhe nobe kusishayamtsetfo sesifundza lesitsintsekako kuye ngesimo atawuba nelilungelo lekwenta tetfulo letibhaliwe letihambisana nekucutjungulwa kwaloludzaba kungakapheli sikhatsi lesiphawulwe emiyalelweni leniketwe ngaphasi kwemtseshwanasimiso\n",
       "29864                                                                  badiriši ba websaete ye ke badudi ba afrika borwa ba go dula dikarolong ka moka tša naga ye dikgwebo goba mekgahlo ya afrika borwa mmogo le badudi le mekgahlo ya dinaga tše dingwe yeo e nyakago ditirelo go tšwa go mmušo wa afrika borwa\n",
       "24997           the lower courts and the high courts were able to dispose of more cases than the total number of new cases enrolled a total of new cases were enrolled and cases disposed off a total of more cases were therefore disposed than received this is sign of very commendable progress in this regard\n",
       "                                                                                                                                                           ...                                                                                                                                                    \n",
       "6231                                                           nokuba besazi ubukho beqela elibusayo nokulihlonipha ukuba lilawule iindaba zalo baxhalabile ukuba limele ukuqhubeka ukudlala indima yalo njengelinye labazobi abaphambili bedemokrasi bengacaluli ngokwebala ngokwesini kumzantsi afrika ophuhlayo\n",
       "18647    ejenti ya phemiti ya ku nghenisa etikweni metheriyali ya tijenetiki ta swiharhi yi fanele ku rejistara na registrar of animal improvement loko a nga si sungula ku nghenisa etikweni swiharhi kumbe metheriyali ya jenetiki ya swilo swo fana na ti-embryo matandza ya ntswalo kumbe semen eafrika dzonga\n",
       "3805                                                    mhaka nkulu ya ies i ku pfuxeta nkambana wa nhundzu na mintirho ya consumer price index cpi lexi ku nga xikombiso xikulu xa ku tlakuka no hunguteka ka timhaka ta ikhonomi ku tlakuka no hunguteka loku ku pimiwa hi ku cinca ka cpi hi ku famba ka nkarhi\n",
       "27810                                     vito ra vandla ra vumbirhi kumbe ra le henhla ku fanele ku va leri kombisaka bindzu leri hlamuseriwaka eka vumbiwa bya vandla xikombiso vandla ra vumbirhi leri tirhanaka na timhaka ta tindlu a ri nge tivitani vandla ro hlayisa ra vumbirhi kumbe vandla ra xikweleti\n",
       "2684                                                                                                naga gape e lebane le tlhohlo ya mabapi le go aga setšhaba se se kgathalago kudukudu ka kgabagareng ya tshepedišo ya ekonomi yeo e hlohleletšago go lebelela motho o tee bojato le phadišano ye e sego ya loka\n",
       "Name: text, Length: 26400, dtype: object"
      ]
     },
     "execution_count": 21,
     "metadata": {},
     "output_type": "execute_result"
    }
   ],
   "source": [
    "x_train"
   ]
  },
  {
   "cell_type": "markdown",
   "id": "788ad08f",
   "metadata": {},
   "source": [
    "### Modelling\n",
    "**Using Logistic regression Model**"
   ]
  },
  {
   "cell_type": "code",
   "execution_count": 22,
   "id": "b8c25f0a",
   "metadata": {},
   "outputs": [
    {
     "data": {
      "text/plain": [
       "Pipeline(steps=[('tfidf', TfidfVectorizer()), ('clf', LogisticRegression())])"
      ]
     },
     "execution_count": 22,
     "metadata": {},
     "output_type": "execute_result"
    }
   ],
   "source": [
    "from sklearn.pipeline import Pipeline\n",
    "from sklearn.feature_extraction.text import TfidfVectorizer\n",
    "from sklearn.linear_model import LogisticRegression\n",
    "\n",
    "# Assuming you have the training data x_train and corresponding labels y_train\n",
    "# Create the pipeline\n",
    "lr = Pipeline([('tfidf', TfidfVectorizer()), ('clf', LogisticRegression())])\n",
    "\n",
    "# Train the pipeline\n",
    "lr.fit(x_train, y_train)\n",
    "\n"
   ]
  },
  {
   "cell_type": "code",
   "execution_count": 23,
   "id": "3df38207",
   "metadata": {},
   "outputs": [],
   "source": [
    "pred_lr = lr.predict(x_test)"
   ]
  },
  {
   "cell_type": "code",
   "execution_count": 24,
   "id": "5e67c4fe",
   "metadata": {},
   "outputs": [
    {
     "name": "stdout",
     "output_type": "stream",
     "text": [
      "Classification Report\n",
      "              precision    recall  f1-score   support\n",
      "\n",
      "         afr       1.00      0.99      1.00       596\n",
      "         eng       1.00      1.00      1.00       567\n",
      "         nbl       1.00      0.98      0.99       631\n",
      "         nso       1.00      1.00      1.00       601\n",
      "         sot       1.00      1.00      1.00       608\n",
      "         ssw       0.99      1.00      1.00       615\n",
      "         tsn       1.00      1.00      1.00       597\n",
      "         tso       1.00      1.00      1.00       591\n",
      "         ven       1.00      1.00      1.00       621\n",
      "         xho       0.99      1.00      0.99       609\n",
      "         zul       0.98      0.99      0.98       564\n",
      "\n",
      "    accuracy                           1.00      6600\n",
      "   macro avg       1.00      1.00      1.00      6600\n",
      "weighted avg       1.00      1.00      1.00      6600\n",
      "\n",
      "The accuracy score of the SVC is: 0.9954545454545455\n"
     ]
    }
   ],
   "source": [
    "from sklearn.metrics import classification_report\n",
    "from sklearn.metrics import accuracy_score\n",
    "\n",
    "print('Classification Report')\n",
    "print(classification_report(y_test, pred_lr))\n",
    "\n",
    "print(\"The accuracy score of the SVC is:\", accuracy_score(y_test, pred_lr))"
   ]
  },
  {
   "cell_type": "code",
   "execution_count": 25,
   "id": "e16b03d7",
   "metadata": {
    "scrolled": true
   },
   "outputs": [
    {
     "data": {
      "image/png": "[encoded data removed]",
      "text/plain": [
       "<Figure size 1080x720 with 2 Axes>"
      ]
     },
     "metadata": {
      "needs_background": "light"
     },
     "output_type": "display_data"
    }
   ],
   "source": [
    "# model evaluation\n",
    "from sklearn.metrics import accuracy_score, confusion_matrix\n",
    "ac = accuracy_score(y_test, pred_lr)\n",
    "cm = confusion_matrix(y_test, pred_lr)\n",
    "# visualising the confusion matrix\n",
    "plt.figure(figsize=(15,10))\n",
    "sns.heatmap(cm, annot = True)\n",
    "plt.show()"
   ]
  },
  {
   "cell_type": "markdown",
   "id": "2fbb211f",
   "metadata": {},
   "source": [
    "### Kaggle Submission"
   ]
  },
  {
   "cell_type": "code",
   "execution_count": 60,
   "id": "4604c2b0",
   "metadata": {},
   "outputs": [],
   "source": [
    "from sklearn.feature_extraction.text import CountVectorizer\n",
    "vectorizer = CountVectorizer()\n",
    "# prediction = stacking_NB2.predict(X_test)\n",
    "prediction = nb_classifier.predict(x_test)\n"
   ]
  },
  {
   "cell_type": "code",
   "execution_count": 61,
   "id": "6ce31031",
   "metadata": {},
   "outputs": [],
   "source": [
    "X = df_test['text']\n",
    "# Vectorize = vect.transform(X)\n",
    "\n",
    "# vectorized_data = vectorizer.fit_transform(X)"
   ]
  },
  {
   "cell_type": "code",
   "execution_count": 62,
   "id": "6b5682b0",
   "metadata": {},
   "outputs": [
    {
     "name": "stdout",
     "output_type": "stream",
     "text": [
      "<class 'numpy.ndarray'>\n"
     ]
    }
   ],
   "source": [
    "print(type(prediction))"
   ]
  },
  {
   "cell_type": "code",
   "execution_count": 63,
   "id": "bc654033",
   "metadata": {},
   "outputs": [],
   "source": [
    "df_test['lang_id'] = nb_classifier.predict(X)"
   ]
  },
  {
   "cell_type": "code",
   "execution_count": 64,
   "id": "256ab5ea",
   "metadata": {
    "scrolled": true
   },
   "outputs": [
    {
     "data": {
      "text/html": [
       "<div>\n",
       "<style scoped>\n",
       "    .dataframe tbody tr th:only-of-type {\n",
       "        vertical-align: middle;\n",
       "    }\n",
       "\n",
       "    .dataframe tbody tr th {\n",
       "        vertical-align: top;\n",
       "    }\n",
       "\n",
       "    .dataframe thead th {\n",
       "        text-align: right;\n",
       "    }\n",
       "</style>\n",
       "<table border=\"1\" class=\"dataframe\">\n",
       "  <thead>\n",
       "    <tr style=\"text-align: right;\">\n",
       "      <th></th>\n",
       "      <th>index</th>\n",
       "      <th>lang_id</th>\n",
       "    </tr>\n",
       "  </thead>\n",
       "  <tbody>\n",
       "    <tr>\n",
       "      <th>0</th>\n",
       "      <td>1</td>\n",
       "      <td>tsn</td>\n",
       "    </tr>\n",
       "    <tr>\n",
       "      <th>1</th>\n",
       "      <td>2</td>\n",
       "      <td>nbl</td>\n",
       "    </tr>\n",
       "    <tr>\n",
       "      <th>2</th>\n",
       "      <td>3</td>\n",
       "      <td>ven</td>\n",
       "    </tr>\n",
       "    <tr>\n",
       "      <th>3</th>\n",
       "      <td>4</td>\n",
       "      <td>ssw</td>\n",
       "    </tr>\n",
       "    <tr>\n",
       "      <th>4</th>\n",
       "      <td>5</td>\n",
       "      <td>afr</td>\n",
       "    </tr>\n",
       "    <tr>\n",
       "      <th>...</th>\n",
       "      <td>...</td>\n",
       "      <td>...</td>\n",
       "    </tr>\n",
       "    <tr>\n",
       "      <th>5677</th>\n",
       "      <td>5678</td>\n",
       "      <td>eng</td>\n",
       "    </tr>\n",
       "    <tr>\n",
       "      <th>5678</th>\n",
       "      <td>5679</td>\n",
       "      <td>nso</td>\n",
       "    </tr>\n",
       "    <tr>\n",
       "      <th>5679</th>\n",
       "      <td>5680</td>\n",
       "      <td>sot</td>\n",
       "    </tr>\n",
       "    <tr>\n",
       "      <th>5680</th>\n",
       "      <td>5681</td>\n",
       "      <td>sot</td>\n",
       "    </tr>\n",
       "    <tr>\n",
       "      <th>5681</th>\n",
       "      <td>5682</td>\n",
       "      <td>tso</td>\n",
       "    </tr>\n",
       "  </tbody>\n",
       "</table>\n",
       "<p>5682 rows × 2 columns</p>\n",
       "</div>"
      ],
      "text/plain": [
       "      index lang_id\n",
       "0         1     tsn\n",
       "1         2     nbl\n",
       "2         3     ven\n",
       "3         4     ssw\n",
       "4         5     afr\n",
       "...     ...     ...\n",
       "5677   5678     eng\n",
       "5678   5679     nso\n",
       "5679   5680     sot\n",
       "5680   5681     sot\n",
       "5681   5682     tso\n",
       "\n",
       "[5682 rows x 2 columns]"
      ]
     },
     "execution_count": 64,
     "metadata": {},
     "output_type": "execute_result"
    }
   ],
   "source": [
    "submission = df_test[['index', 'lang_id']]\n",
    "submission.to_csv('my_submission3.csv',index=False)\n",
    "submission"
   ]
  },
  {
   "cell_type": "markdown",
   "id": "a03929f9",
   "metadata": {},
   "source": [
    "## Let's try out some other models\n",
    "**Random Forest Classifier**"
   ]
  },
  {
   "cell_type": "code",
   "execution_count": 37,
   "id": "f69fb063",
   "metadata": {},
   "outputs": [
    {
     "data": {
      "text/plain": [
       "Pipeline(steps=[('tfidf', TfidfVectorizer()),\n",
       "                ('clf', RandomForestClassifier())])"
      ]
     },
     "execution_count": 37,
     "metadata": {},
     "output_type": "execute_result"
    }
   ],
   "source": [
    "from sklearn.ensemble import RandomForestClassifier\n",
    "from sklearn.pipeline import Pipeline\n",
    "from sklearn.feature_extraction.text import TfidfVectorizer\n",
    "# Assuming you have the training data x_train and corresponding labels y_train\n",
    "# Create the pipeline\n",
    "rf = Pipeline([('tfidf', TfidfVectorizer()), ('clf', RandomForestClassifier())])\n",
    "\n",
    "# Train the pipeline\n",
    "rf.fit(x_train, y_train)"
   ]
  },
  {
   "cell_type": "code",
   "execution_count": 40,
   "id": "d624a78b",
   "metadata": {},
   "outputs": [],
   "source": [
    "pred_rf = rf.predict(x_test)"
   ]
  },
  {
   "cell_type": "code",
   "execution_count": 41,
   "id": "b7fb7ee0",
   "metadata": {},
   "outputs": [
    {
     "name": "stdout",
     "output_type": "stream",
     "text": [
      "Classification Report\n",
      "              precision    recall  f1-score   support\n",
      "\n",
      "         afr       1.00      1.00      1.00       596\n",
      "         eng       0.99      1.00      1.00       567\n",
      "         nbl       0.99      0.94      0.96       631\n",
      "         nso       1.00      1.00      1.00       601\n",
      "         sot       1.00      1.00      1.00       608\n",
      "         ssw       0.99      0.97      0.98       615\n",
      "         tsn       1.00      1.00      1.00       597\n",
      "         tso       1.00      1.00      1.00       591\n",
      "         ven       1.00      1.00      1.00       621\n",
      "         xho       0.96      0.99      0.98       609\n",
      "         zul       0.94      0.96      0.95       564\n",
      "\n",
      "    accuracy                           0.99      6600\n",
      "   macro avg       0.99      0.99      0.99      6600\n",
      "weighted avg       0.99      0.99      0.99      6600\n",
      "\n",
      "The accuracy score of the SVC is: 0.9869696969696969\n"
     ]
    }
   ],
   "source": [
    "from sklearn.metrics import classification_report\n",
    "from sklearn.metrics import accuracy_score\n",
    "\n",
    "print('Classification Report')\n",
    "print(classification_report(y_test, pred_rf))\n",
    "\n",
    "print(\"The accuracy score of the SVC is:\", accuracy_score(y_test, pred_rf))"
   ]
  },
  {
   "cell_type": "markdown",
   "id": "e36a71ea",
   "metadata": {},
   "source": [
    "**Naive Bayes Classifier**"
   ]
  },
  {
   "cell_type": "code",
   "execution_count": 56,
   "id": "3dcaf22c",
   "metadata": {},
   "outputs": [
    {
     "data": {
      "text/plain": [
       "Pipeline(steps=[('tfidf', TfidfVectorizer()), ('clf', MultinomialNB())])"
      ]
     },
     "execution_count": 56,
     "metadata": {},
     "output_type": "execute_result"
    }
   ],
   "source": [
    "from sklearn.naive_bayes import MultinomialNB\n",
    "from sklearn.model_selection import train_test_split\n",
    "from sklearn.metrics import accuracy_score\n",
    "\n",
    "from sklearn.pipeline import Pipeline\n",
    "from sklearn.feature_extraction.text import TfidfVectorizer\n",
    "# Assuming you have the training data x_train and corresponding labels y_train\n",
    "# Create the pipeline\n",
    "nb_classifier = Pipeline([('tfidf', TfidfVectorizer()), ('clf', MultinomialNB())])\n",
    "\n",
    "# Train the pipeline\n",
    "nb_classifier.fit(x_train, y_train)"
   ]
  },
  {
   "cell_type": "code",
   "execution_count": 57,
   "id": "8b02b1eb",
   "metadata": {},
   "outputs": [],
   "source": [
    "pred_nb_classifier = nb_classifier.predict(x_test)"
   ]
  },
  {
   "cell_type": "code",
   "execution_count": 58,
   "id": "62cb9c14",
   "metadata": {},
   "outputs": [
    {
     "name": "stdout",
     "output_type": "stream",
     "text": [
      "Classification Report\n",
      "              precision    recall  f1-score   support\n",
      "\n",
      "         afr       1.00      1.00      1.00       596\n",
      "         eng       0.99      1.00      1.00       567\n",
      "         nbl       1.00      1.00      1.00       631\n",
      "         nso       1.00      1.00      1.00       601\n",
      "         sot       1.00      1.00      1.00       608\n",
      "         ssw       1.00      1.00      1.00       615\n",
      "         tsn       1.00      1.00      1.00       597\n",
      "         tso       1.00      1.00      1.00       591\n",
      "         ven       1.00      1.00      1.00       621\n",
      "         xho       1.00      1.00      1.00       609\n",
      "         zul       1.00      1.00      1.00       564\n",
      "\n",
      "    accuracy                           1.00      6600\n",
      "   macro avg       1.00      1.00      1.00      6600\n",
      "weighted avg       1.00      1.00      1.00      6600\n",
      "\n",
      "The accuracy score of the SVC is: 0.9995454545454545\n"
     ]
    }
   ],
   "source": [
    "from sklearn.metrics import classification_report\n",
    "from sklearn.metrics import accuracy_score\n",
    "\n",
    "print('Classification Report')\n",
    "print(classification_report(y_test, pred_nb_classifier))\n",
    "\n",
    "print(\"The accuracy score of the SVC is:\", accuracy_score(y_test, pred_nb_classifier))"
   ]
  },
  {
   "cell_type": "markdown",
   "id": "1b7c37e2",
   "metadata": {},
   "source": [
    "**Support Vector Machines(SVM)**"
   ]
  },
  {
   "cell_type": "code",
   "execution_count": 65,
   "id": "cb0d4f1d",
   "metadata": {},
   "outputs": [
    {
     "data": {
      "text/plain": [
       "Pipeline(steps=[('tfidf', TfidfVectorizer()), ('clf', SVC())])"
      ]
     },
     "execution_count": 65,
     "metadata": {},
     "output_type": "execute_result"
    }
   ],
   "source": [
    "from sklearn.feature_extraction.text import TfidfVectorizer\n",
    "from sklearn.svm import SVC\n",
    "from sklearn.model_selection import train_test_split\n",
    "from sklearn.metrics import accuracy_score\n",
    "\n",
    "svm_classifier = Pipeline([('tfidf', TfidfVectorizer()), ('clf', SVC())])\n",
    "\n",
    "# Train the pipeline\n",
    "svm_classifier.fit(x_train, y_train)"
   ]
  },
  {
   "cell_type": "code",
   "execution_count": 52,
   "id": "bc41ba9e",
   "metadata": {},
   "outputs": [],
   "source": [
    "pred_svm_classifier = svm_classifier.predict(x_test)"
   ]
  },
  {
   "cell_type": "code",
   "execution_count": 53,
   "id": "33faa437",
   "metadata": {},
   "outputs": [
    {
     "name": "stdout",
     "output_type": "stream",
     "text": [
      "Classification Report\n",
      "              precision    recall  f1-score   support\n",
      "\n",
      "         afr       1.00      1.00      1.00       596\n",
      "         eng       0.99      1.00      0.99       567\n",
      "         nbl       0.99      0.94      0.96       631\n",
      "         nso       1.00      1.00      1.00       601\n",
      "         sot       1.00      1.00      1.00       608\n",
      "         ssw       0.99      0.97      0.98       615\n",
      "         tsn       1.00      1.00      1.00       597\n",
      "         tso       1.00      1.00      1.00       591\n",
      "         ven       1.00      1.00      1.00       621\n",
      "         xho       0.97      0.99      0.98       609\n",
      "         zul       0.92      0.97      0.94       564\n",
      "\n",
      "    accuracy                           0.99      6600\n",
      "   macro avg       0.99      0.99      0.99      6600\n",
      "weighted avg       0.99      0.99      0.99      6600\n",
      "\n",
      "The accuracy score of the SVC is: 0.9860606060606061\n"
     ]
    }
   ],
   "source": [
    "from sklearn.metrics import classification_report\n",
    "from sklearn.metrics import accuracy_score\n",
    "\n",
    "print('Classification Report')\n",
    "print(classification_report(y_test, pred_svm_classifier))\n",
    "\n",
    "print(\"The accuracy score of the SVC is:\", accuracy_score(y_test, pred_svm_classifier))"
   ]
  }
 ],
 "metadata": {
  "kernelspec": {
   "display_name": "Python 3 (ipykernel)",
   "language": "python",
   "name": "python3"
  },
  "language_info": {
   "codemirror_mode": {
    "name": "ipython",
    "version": 3
   },
   "file_extension": ".py",
   "mimetype": "text/x-python",
   "name": "python",
   "nbconvert_exporter": "python",
   "pygments_lexer": "ipython3",
   "version": "3.9.12"
  }
 },
 "nbformat": 4,
 "nbformat_minor": 5
}
